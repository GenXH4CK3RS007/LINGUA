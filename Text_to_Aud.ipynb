{
  "cells": [
    {
      "cell_type": "markdown",
      "metadata": {
        "id": "view-in-github",
        "colab_type": "text"
      },
      "source": [
        "<a href=\"https://colab.research.google.com/github/GenXHackers/Lingua/blob/main/Text_to_Aud.ipynb\" target=\"_parent\"><img src=\"https://colab.research.google.com/assets/colab-badge.svg\" alt=\"Open In Colab\"/></a>"
      ]
    },
    {
      "cell_type": "code",
      "execution_count": null,
      "metadata": {
        "colab": {
          "base_uri": "https://localhost:8080/"
        },
        "id": "Ry7T33gzY1Zw",
        "outputId": "714bc389-d987-46c7-cd85-31800aeb6563"
      },
      "outputs": [
        {
          "output_type": "stream",
          "name": "stdout",
          "text": [
            "Collecting googletrans==4.0.0-rc1\n",
            "  Downloading googletrans-4.0.0rc1.tar.gz (20 kB)\n",
            "  Preparing metadata (setup.py) ... \u001b[?25l\u001b[?25hdone\n",
            "Collecting httpx==0.13.3 (from googletrans==4.0.0-rc1)\n",
            "  Downloading httpx-0.13.3-py3-none-any.whl.metadata (25 kB)\n",
            "Requirement already satisfied: certifi in /usr/local/lib/python3.10/dist-packages (from httpx==0.13.3->googletrans==4.0.0-rc1) (2024.7.4)\n",
            "Collecting hstspreload (from httpx==0.13.3->googletrans==4.0.0-rc1)\n",
            "  Downloading hstspreload-2024.9.1-py3-none-any.whl.metadata (2.1 kB)\n",
            "Requirement already satisfied: sniffio in /usr/local/lib/python3.10/dist-packages (from httpx==0.13.3->googletrans==4.0.0-rc1) (1.3.1)\n",
            "Collecting chardet==3.* (from httpx==0.13.3->googletrans==4.0.0-rc1)\n",
            "  Downloading chardet-3.0.4-py2.py3-none-any.whl.metadata (3.2 kB)\n",
            "Collecting idna==2.* (from httpx==0.13.3->googletrans==4.0.0-rc1)\n",
            "  Downloading idna-2.10-py2.py3-none-any.whl.metadata (9.1 kB)\n",
            "Collecting rfc3986<2,>=1.3 (from httpx==0.13.3->googletrans==4.0.0-rc1)\n",
            "  Downloading rfc3986-1.5.0-py2.py3-none-any.whl.metadata (6.5 kB)\n",
            "Collecting httpcore==0.9.* (from httpx==0.13.3->googletrans==4.0.0-rc1)\n",
            "  Downloading httpcore-0.9.1-py3-none-any.whl.metadata (4.6 kB)\n",
            "Collecting h11<0.10,>=0.8 (from httpcore==0.9.*->httpx==0.13.3->googletrans==4.0.0-rc1)\n",
            "  Downloading h11-0.9.0-py2.py3-none-any.whl.metadata (8.1 kB)\n",
            "Collecting h2==3.* (from httpcore==0.9.*->httpx==0.13.3->googletrans==4.0.0-rc1)\n",
            "  Downloading h2-3.2.0-py2.py3-none-any.whl.metadata (32 kB)\n",
            "Collecting hyperframe<6,>=5.2.0 (from h2==3.*->httpcore==0.9.*->httpx==0.13.3->googletrans==4.0.0-rc1)\n",
            "  Downloading hyperframe-5.2.0-py2.py3-none-any.whl.metadata (7.2 kB)\n",
            "Collecting hpack<4,>=3.0 (from h2==3.*->httpcore==0.9.*->httpx==0.13.3->googletrans==4.0.0-rc1)\n",
            "  Downloading hpack-3.0.0-py2.py3-none-any.whl.metadata (7.0 kB)\n",
            "Downloading httpx-0.13.3-py3-none-any.whl (55 kB)\n",
            "\u001b[2K   \u001b[90m━━━━━━━━━━━━━━━━━━━━━━━━━━━━━━━━━━━━━━━━\u001b[0m \u001b[32m55.1/55.1 kB\u001b[0m \u001b[31m5.0 MB/s\u001b[0m eta \u001b[36m0:00:00\u001b[0m\n",
            "\u001b[?25hDownloading chardet-3.0.4-py2.py3-none-any.whl (133 kB)\n",
            "\u001b[2K   \u001b[90m━━━━━━━━━━━━━━━━━━━━━━━━━━━━━━━━━━━━━━━━\u001b[0m \u001b[32m133.4/133.4 kB\u001b[0m \u001b[31m8.2 MB/s\u001b[0m eta \u001b[36m0:00:00\u001b[0m\n",
            "\u001b[?25hDownloading httpcore-0.9.1-py3-none-any.whl (42 kB)\n",
            "\u001b[2K   \u001b[90m━━━━━━━━━━━━━━━━━━━━━━━━━━━━━━━━━━━━━━━━\u001b[0m \u001b[32m42.6/42.6 kB\u001b[0m \u001b[31m3.8 MB/s\u001b[0m eta \u001b[36m0:00:00\u001b[0m\n",
            "\u001b[?25hDownloading idna-2.10-py2.py3-none-any.whl (58 kB)\n",
            "\u001b[2K   \u001b[90m━━━━━━━━━━━━━━━━━━━━━━━━━━━━━━━━━━━━━━━━\u001b[0m \u001b[32m58.8/58.8 kB\u001b[0m \u001b[31m5.7 MB/s\u001b[0m eta \u001b[36m0:00:00\u001b[0m\n",
            "\u001b[?25hDownloading h2-3.2.0-py2.py3-none-any.whl (65 kB)\n",
            "\u001b[2K   \u001b[90m━━━━━━━━━━━━━━━━━━━━━━━━━━━━━━━━━━━━━━━━\u001b[0m \u001b[32m65.0/65.0 kB\u001b[0m \u001b[31m5.7 MB/s\u001b[0m eta \u001b[36m0:00:00\u001b[0m\n",
            "\u001b[?25hDownloading rfc3986-1.5.0-py2.py3-none-any.whl (31 kB)\n",
            "Downloading hstspreload-2024.9.1-py3-none-any.whl (1.2 MB)\n",
            "\u001b[2K   \u001b[90m━━━━━━━━━━━━━━━━━━━━━━━━━━━━━━━━━━━━━━━━\u001b[0m \u001b[32m1.2/1.2 MB\u001b[0m \u001b[31m48.7 MB/s\u001b[0m eta \u001b[36m0:00:00\u001b[0m\n",
            "\u001b[?25hDownloading h11-0.9.0-py2.py3-none-any.whl (53 kB)\n",
            "\u001b[2K   \u001b[90m━━━━━━━━━━━━━━━━━━━━━━━━━━━━━━━━━━━━━━━━\u001b[0m \u001b[32m53.6/53.6 kB\u001b[0m \u001b[31m4.4 MB/s\u001b[0m eta \u001b[36m0:00:00\u001b[0m\n",
            "\u001b[?25hDownloading hpack-3.0.0-py2.py3-none-any.whl (38 kB)\n",
            "Downloading hyperframe-5.2.0-py2.py3-none-any.whl (12 kB)\n",
            "Building wheels for collected packages: googletrans\n",
            "  Building wheel for googletrans (setup.py) ... \u001b[?25l\u001b[?25hdone\n",
            "  Created wheel for googletrans: filename=googletrans-4.0.0rc1-py3-none-any.whl size=17397 sha256=0e25e17b4ba6f53a17e1f4473e7295a74869429a3226ff6e5f50e43dd9d84f2e\n",
            "  Stored in directory: /root/.cache/pip/wheels/c0/59/9f/7372f0cf70160fe61b528532e1a7c8498c4becd6bcffb022de\n",
            "Successfully built googletrans\n",
            "Installing collected packages: rfc3986, hyperframe, hpack, h11, chardet, idna, hstspreload, h2, httpcore, httpx, googletrans\n",
            "  Attempting uninstall: chardet\n",
            "    Found existing installation: chardet 5.2.0\n",
            "    Uninstalling chardet-5.2.0:\n",
            "      Successfully uninstalled chardet-5.2.0\n",
            "  Attempting uninstall: idna\n",
            "    Found existing installation: idna 3.8\n",
            "    Uninstalling idna-3.8:\n",
            "      Successfully uninstalled idna-3.8\n",
            "Successfully installed chardet-3.0.4 googletrans-4.0.0rc1 h11-0.9.0 h2-3.2.0 hpack-3.0.0 hstspreload-2024.9.1 httpcore-0.9.1 httpx-0.13.3 hyperframe-5.2.0 idna-2.10 rfc3986-1.5.0\n"
          ]
        }
      ],
      "source": [
        "!pip install googletrans==4.0.0-rc1"
      ]
    },
    {
      "cell_type": "code",
      "execution_count": null,
      "metadata": {
        "id": "dGujAfaYZGge",
        "colab": {
          "base_uri": "https://localhost:8080/"
        },
        "outputId": "ed65665e-c1da-4413-a74c-caf202949e1d"
      },
      "outputs": [
        {
          "output_type": "stream",
          "name": "stdout",
          "text": [
            "नमस्ते, आप कैसे हैं?\n"
          ]
        }
      ],
      "source": [
        "from googletrans import Translator\n",
        "\n",
        "# Initialize the translator\n",
        "translator = Translator()\n",
        "\n",
        "# Translate text\n",
        "translated = translator.translate('Hello, how are you?', dest='hi')\n",
        "\n",
        "# Print the translated text\n",
        "print(translated.text)"
      ]
    },
    {
      "cell_type": "code",
      "execution_count": null,
      "metadata": {
        "colab": {
          "base_uri": "https://localhost:8080/"
        },
        "id": "rgbyvgFvZO3Y",
        "outputId": "d348a5f6-1636-4ba9-8f17-4a73f8afdbb1"
      },
      "outputs": [
        {
          "output_type": "stream",
          "name": "stdout",
          "text": [
            "வணக்கம், நீங்கள் எப்படி இருக்கிறீர்கள்?\n"
          ]
        }
      ],
      "source": [
        "translated = translator.translate('Hello, how are you?', dest='ta')\n",
        "print(translated.text)"
      ]
    },
    {
      "cell_type": "code",
      "execution_count": null,
      "metadata": {
        "colab": {
          "base_uri": "https://localhost:8080/"
        },
        "id": "vdBSXBR3ZS94",
        "outputId": "416d09b2-73a3-413d-e11b-3f2d3a1e3b5a"
      },
      "outputs": [
        {
          "output_type": "stream",
          "name": "stdout",
          "text": [
            "வரவேற்கிறோம்\n",
            "என்ன கனா?\n",
            "காலை வணக்கம்\n"
          ]
        }
      ],
      "source": [
        "Input=[\"Welcome\",\"Whats up dude?\",\"Good Morning\"]\n",
        "\n",
        "translator=Translator()\n",
        "\n",
        "for i in Input:\n",
        "  translated=translator.translate(i,dest=\"ta\")\n",
        "  print(translated.text)"
      ]
    },
    {
      "cell_type": "code",
      "execution_count": null,
      "metadata": {
        "id": "mEYWAR_qZabu",
        "colab": {
          "base_uri": "https://localhost:8080/"
        },
        "outputId": "cf738c4c-1af5-4865-c51e-6dc335902474"
      },
      "outputs": [
        {
          "output_type": "stream",
          "name": "stdout",
          "text": [
            "as: invalid destination language\n",
            "bn: হ্যালো, কেমন আছেন?\n",
            "gu: હેલો, તમે કેમ છો?\n",
            "hi: नमस्ते, आप कैसे हैं?\n",
            "kn: ಹಲೋ, ಹೇಗಿದ್ದೀರಾ?\n",
            "ml: ഹലോ, നിങ്ങൾക്ക് സുഖമാണോ?\n",
            "mr: हॅलो, कसे आहात?\n",
            "ne: नमस्ते, तिमीलाई कस्तो छ?\n",
            "or: ନମସ୍କାର, ଆପଣ କେମିତି ଅଛନ୍ତି?\n",
            "pa: ਹੈਲੋ ਤੁਸੀ ਕਿਵੇਂ ਹੋ?\n",
            "sd: سلام توهان ڪيئن آهيو؟\n",
            "ta: வணக்கம், நீங்கள் எப்படி இருக்கிறீர்கள்?\n",
            "te: హలో, మీరు ఎలా ఉన్నారు?\n",
            "ur: ہیلو ، آپ کیسے ہیں؟\n"
          ]
        }
      ],
      "source": [
        "official_22_indian_languages = [\n",
        "    'as',  # Assamese\n",
        "    'bn',  # Bengali\n",
        "    'gu',  # Gujarati\n",
        "    'hi',  # Hindi\n",
        "    'kn',  # Kannada\n",
        "    'ml',  # Malayalam\n",
        "    'mr',  # Marathi\n",
        "    'ne',  # Nepali\n",
        "    'or',  # Oriya (Odia)\n",
        "    'pa',  # Punjabi\n",
        "    'sd',  # Sindhi\n",
        "    'ta',  # Tamil\n",
        "    'te',  # Telugu\n",
        "    'ur',  # Urdu\n",
        "    # Excluded codes: 'brx', 'doi', 'ks', 'kok', 'mai', 'mni', 'sa', 'sat'\n",
        "]\n",
        "\n",
        "for language in official_22_indian_languages:\n",
        "    try:\n",
        "        translated = translator.translate(\"Hello, how are you?\", dest=language)\n",
        "        print(f\"{language}: {translated.text}\")\n",
        "    except ValueError as e:\n",
        "        print(f\"{language}: {str(e)}\")"
      ]
    },
    {
      "cell_type": "code",
      "execution_count": null,
      "metadata": {
        "id": "GSfCa-oecqQt",
        "colab": {
          "base_uri": "https://localhost:8080/"
        },
        "outputId": "46677adb-4b6c-47ca-fd7d-1fcdad9bbedf"
      },
      "outputs": [
        {
          "output_type": "stream",
          "name": "stdout",
          "text": [
            "Collecting gtts\n",
            "  Downloading gTTS-2.5.3-py3-none-any.whl.metadata (4.1 kB)\n",
            "Requirement already satisfied: googletrans==4.0.0-rc1 in /usr/local/lib/python3.10/dist-packages (4.0.0rc1)\n",
            "Requirement already satisfied: httpx==0.13.3 in /usr/local/lib/python3.10/dist-packages (from googletrans==4.0.0-rc1) (0.13.3)\n",
            "Requirement already satisfied: certifi in /usr/local/lib/python3.10/dist-packages (from httpx==0.13.3->googletrans==4.0.0-rc1) (2024.7.4)\n",
            "Requirement already satisfied: hstspreload in /usr/local/lib/python3.10/dist-packages (from httpx==0.13.3->googletrans==4.0.0-rc1) (2024.9.1)\n",
            "Requirement already satisfied: sniffio in /usr/local/lib/python3.10/dist-packages (from httpx==0.13.3->googletrans==4.0.0-rc1) (1.3.1)\n",
            "Requirement already satisfied: chardet==3.* in /usr/local/lib/python3.10/dist-packages (from httpx==0.13.3->googletrans==4.0.0-rc1) (3.0.4)\n",
            "Requirement already satisfied: idna==2.* in /usr/local/lib/python3.10/dist-packages (from httpx==0.13.3->googletrans==4.0.0-rc1) (2.10)\n",
            "Requirement already satisfied: rfc3986<2,>=1.3 in /usr/local/lib/python3.10/dist-packages (from httpx==0.13.3->googletrans==4.0.0-rc1) (1.5.0)\n",
            "Requirement already satisfied: httpcore==0.9.* in /usr/local/lib/python3.10/dist-packages (from httpx==0.13.3->googletrans==4.0.0-rc1) (0.9.1)\n",
            "Requirement already satisfied: h11<0.10,>=0.8 in /usr/local/lib/python3.10/dist-packages (from httpcore==0.9.*->httpx==0.13.3->googletrans==4.0.0-rc1) (0.9.0)\n",
            "Requirement already satisfied: h2==3.* in /usr/local/lib/python3.10/dist-packages (from httpcore==0.9.*->httpx==0.13.3->googletrans==4.0.0-rc1) (3.2.0)\n",
            "Requirement already satisfied: hyperframe<6,>=5.2.0 in /usr/local/lib/python3.10/dist-packages (from h2==3.*->httpcore==0.9.*->httpx==0.13.3->googletrans==4.0.0-rc1) (5.2.0)\n",
            "Requirement already satisfied: hpack<4,>=3.0 in /usr/local/lib/python3.10/dist-packages (from h2==3.*->httpcore==0.9.*->httpx==0.13.3->googletrans==4.0.0-rc1) (3.0.0)\n",
            "Requirement already satisfied: requests<3,>=2.27 in /usr/local/lib/python3.10/dist-packages (from gtts) (2.32.3)\n",
            "Requirement already satisfied: click<8.2,>=7.1 in /usr/local/lib/python3.10/dist-packages (from gtts) (8.1.7)\n",
            "Requirement already satisfied: charset-normalizer<4,>=2 in /usr/local/lib/python3.10/dist-packages (from requests<3,>=2.27->gtts) (3.3.2)\n",
            "Requirement already satisfied: urllib3<3,>=1.21.1 in /usr/local/lib/python3.10/dist-packages (from requests<3,>=2.27->gtts) (2.0.7)\n",
            "Downloading gTTS-2.5.3-py3-none-any.whl (29 kB)\n",
            "Installing collected packages: gtts\n",
            "Successfully installed gtts-2.5.3\n"
          ]
        }
      ],
      "source": [
        "!pip install gtts googletrans==4.0.0-rc1"
      ]
    },
    {
      "cell_type": "code",
      "execution_count": null,
      "metadata": {
        "colab": {
          "base_uri": "https://localhost:8080/",
          "height": 512
        },
        "id": "NaJWDh1ec33g",
        "outputId": "7f846033-1b3c-4fca-de54-a9fffc2ca15f"
      },
      "outputs": [
        {
          "name": "stdout",
          "output_type": "stream",
          "text": [
            "Available Indian Languages:\n",
            "1: Bengali (bn)\n",
            "2: Gujarati (gu)\n",
            "3: Hindi (hi)\n",
            "4: Kannada (kn)\n",
            "5: Malayalam (ml)\n",
            "6: Marathi (mr)\n",
            "7: Nepali (ne)\n",
            "8: Punjabi (pa)\n",
            "9: Telugu (te)\n",
            "10: Urdu (ur)\n",
            "11: Arabic (ar)\n",
            "12: English (en)\n",
            "13: Tamil (ta)\n",
            "14: French (fr)\n",
            "15: German (de)\n",
            "16: Italian (it)\n",
            "17: Japanese (ja)\n",
            "18: Korean (ko)\n",
            "19: Russian (ru)\n",
            "20: Spanish (es)\n",
            "21: Chinese (zh-CN)\n",
            "Select the language by entering the corresponding number: 15\n",
            "Enter the text you want to convert to speech: i love to eat fish\n"
          ]
        },
        {
          "output_type": "display_data",
          "data": {
            "text/plain": [
              "<IPython.lib.display.Audio object>"
            ],
            "text/html": [
              "\n",
              "                <audio  controls=\"controls\" autoplay=\"autoplay\">\n",
              "                    <source src=\"data:audio/mpeg;base64,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\" type=\"audio/mpeg\" />\n",
              "                    Your browser does not support the audio element.\n",
              "                </audio>\n",
              "              "
            ]
          },
          "metadata": {}
        }
      ],
      "source": [
        "from gtts import gTTS\n",
        "from googletrans import Translator\n",
        "from IPython.display import Audio, display\n",
        "\n",
        "def text_to_speech_in_language():\n",
        "    \"\"\"\n",
        "    This function displays a refined menu of Indian language codes with language names,\n",
        "    asks the user to select one, and then converts the input text to speech in the selected language.\n",
        "    \"\"\"\n",
        "    language_menu = {\n",
        "        '1': ('Bengali', 'bn'),\n",
        "        '2': ('Gujarati', 'gu'),\n",
        "        '3': ('Hindi', 'hi'),\n",
        "        '4': ('Kannada', 'kn'),\n",
        "        '5': ('Malayalam', 'ml'),\n",
        "        '6': ('Marathi', 'mr'),\n",
        "        '7': ('Nepali', 'ne'),\n",
        "        '8': ('Punjabi', 'pa'),\n",
        "        '9': ('Telugu', 'te'),\n",
        "        '10': ('Urdu', 'ur'),\n",
        "        '11': ('Arabic', 'ar'),\n",
        "        '12': ('English', 'en'),\n",
        "        '13': ('Tamil', 'ta'),\n",
        "        '14': ('French','fr'),\n",
        "        '15': ('German','de'),\n",
        "        '16': ('Italian','it'),\n",
        "        '17': ('Japanese','ja'),\n",
        "        '18': ('Korean','ko'),\n",
        "        '19': ('Russian','ru'),\n",
        "        '20': ('Spanish','es'),\n",
        "        '21': ('Chinese','zh-CN')\n",
        "    }\n",
        "\n",
        "    # Display refined menu\n",
        "    print(\"Available Indian Languages:\")\n",
        "    for key, (name, code) in language_menu.items():\n",
        "        print(f\"{key}: {name} ({code})\")\n",
        "\n",
        "    # Get user input for language choice\n",
        "    choice = input(\"Select the language by entering the corresponding number: \")\n",
        "    language_info = language_menu.get(choice, ('English', 'en'))  # Default to English if invalid choice\n",
        "    language_name, language_code = language_info\n",
        "\n",
        "    # Input text\n",
        "    text = input(\"Enter the text you want to convert to speech: \")\n",
        "\n",
        "    # Initialize the Translator\n",
        "    translator = Translator()\n",
        "\n",
        "    # Translate the text to the desired language\n",
        "    translated_text = translator.translate(text, dest=language_code).text\n",
        "\n",
        "    # Generate the speech in the specified language\n",
        "    tts = gTTS(translated_text, lang=language_code)\n",
        "\n",
        "    # Save the speech to an MP3 file\n",
        "    tts.save(\"output_audio.mp3\")\n",
        "\n",
        "    # Play the audio file\n",
        "    display(Audio(\"output_audio.mp3\", autoplay=True))\n",
        "\n",
        "# Call the function\n",
        "text_to_speech_in_language()\n"
      ]
    }
  ],
  "metadata": {
    "accelerator": "GPU",
    "colab": {
      "gpuType": "T4",
      "provenance": [],
      "include_colab_link": true
    },
    "kernelspec": {
      "display_name": "Python 3",
      "name": "python3"
    },
    "language_info": {
      "name": "python"
    }
  },
  "nbformat": 4,
  "nbformat_minor": 0
}